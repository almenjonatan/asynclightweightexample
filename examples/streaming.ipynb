{
 "cells": [
  {
   "cell_type": "code",
   "execution_count": null,
   "metadata": {},
   "outputs": [],
   "source": [
    "import json\n",
    "import logging\n",
    "import time\n",
    "import numpy as np\n",
    "\n",
    "from betfairstreamer.models.market_cache import MarketCache\n",
    "from betfairstreamer.models.order_cache import OrderCache\n",
    "\n",
    "from betfairstreamer.api_client import BetfairAPIClient\n",
    "from betfairstreamer.helpers.stream_helpers import (\n",
    "    create_market_subscription,\n",
    "    create_order_subscription\n",
    ")\n",
    "\n",
    "# Setup options for logging and prettier printing.\n",
    "from betfairstreamer.stream.betfair_connection_pool import BetfairConnectionPool\n",
    "\n",
    "np.set_printoptions(precision=3)\n",
    "logging.basicConfig(level=logging.INFO)\n",
    "\n",
    "\n",
    "USERNAME=\"betfair username\"\n",
    "PASSWORD=\"betfair password\"\n",
    "APP_KEY=\"betfair app key\"\n",
    "CERT_CRT_PATH=\"path to .crt file, relative or absolute\"\n",
    "CERT_KEY_PATH=\"path to .key file, relative or absolute\"\n",
    "\n",
    "# Add locale here if you're are in any of\n",
    "# these jurisdictions [italy (IT), spain (ES), romania (RO), sweden (SE)]\n",
    "# i.e. LOCALE=\"SE\"\n",
    "\n",
    "LOCALE=\"\"\n",
    "\n",
    "api_client = BetfairAPIClient.from_requests_backend(\n",
    "    username=USERNAME,\n",
    "    password=PASSWORD,\n",
    "    app_key=APP_KEY,\n",
    "    cert_crt_path=CERT_CRT_PATH,\n",
    "    cert_key_path=CERT_KEY_PATH,\n",
    "    locale=LOCALE\n",
    ")"
   ]
  },
  {
   "cell_type": "markdown",
   "source": [
    "### Create subscriptions.\n",
    "\n",
    "Specify which market one want to subscribe to.\n",
    "\n",
    "References.\n",
    "[MarketSubscription](https://docs.developer.betfair.com/display/1smk3cen4v3lu3yomq5qye0ni/Exchange+Stream+API#ExchangeStreamAPI-MarketSubscriptionMessage),\n",
    "[OrderSubscription](https://docs.developer.betfair.com/display/1smk3cen4v3lu3yomq5qye0ni/Exchange+Stream+API#ExchangeStreamAPI-OrderSubscriptionMessage)."
   ],
   "metadata": {
    "collapsed": false
   }
  },
  {
   "cell_type": "code",
   "execution_count": null,
   "metadata": {
    "collapsed": false,
    "jupyter": {
     "outputs_hidden": false
    },
    "pycharm": {
     "name": "#%%\n"
    }
   },
   "outputs": [],
   "source": [
    "soccer_subscription_message = create_market_subscription(\n",
    "    # Soccer\n",
    "    event_type_ids=[\"1\"],\n",
    "    market_types=[\"MATCH_ODDS\"],\n",
    "    country_codes=[\"BY\", \"DE\"],\n",
    "    # Type of data you want back\n",
    "    fields=[\n",
    "        \"EX_MARKET_DEF\",\n",
    "        \"EX_BEST_OFFERS\",\n",
    "        \"EX_LTP\",\n",
    "        \"EX_BEST_OFFERS_DISP\",\n",
    "        \"EX_ALL_OFFERS\"\n",
    "    ],\n",
    "    # Set delay in ms\n",
    "    conflate_ms=0\n",
    ")\n",
    "\n",
    "order_subscription_message = create_order_subscription()"
   ]
  },
  {
   "cell_type": "markdown",
   "metadata": {
    "pycharm": {
     "name": "#%% md\n"
    }
   },
   "source": [
    "### Cache\n",
    "Betfair sends partial update (deltas), each cache merges all updates from respective stream"
   ]
  },
  {
   "cell_type": "code",
   "execution_count": null,
   "outputs": [],
   "source": [
    "market_cache = MarketCache()\n",
    "order_cache = OrderCache()"
   ],
   "metadata": {
    "collapsed": false,
    "pycharm": {
     "name": "#%%\n"
    }
   }
  },
  {
   "cell_type": "markdown",
   "metadata": {
    "pycharm": {
     "name": "#%% md\n"
    }
   },
   "source": [
    "### Connection Pool\n",
    "For each subscription message, __BetfairConnectionPool__ will create a separate stream to betfair."
   ]
  },
  {
   "cell_type": "code",
   "execution_count": null,
   "metadata": {
    "collapsed": false,
    "jupyter": {
     "outputs_hidden": false
    },
    "pycharm": {
     "name": "#%%\n"
    }
   },
   "outputs": [],
   "source": [
    "# Get session token, used as authentication to Betfair.\n",
    "session_token = api_client.get_session_token()\n",
    "\n",
    "connection_pool = BetfairConnectionPool.create_connection_pool(\n",
    "    subscription_messages=[soccer_subscription_message, order_subscription_message],\n",
    "    app_key=APP_KEY,\n",
    "    session_token=session_token\n",
    ")"
   ]
  },
  {
   "cell_type": "markdown",
   "metadata": {
    "pycharm": {
     "name": "#%% md\n"
    }
   },
   "source": [
    "![img](selections.png)\n",
    "\n",
    "We have a market with __three__ selections/runners (rows). Shakhter, Dinamo and The Draw.\n",
    "\n",
    "There are two sides Back/Lay separated  by color.\n",
    "\n",
    "Each side has three ladder levels (columns).\n",
    "\n",
    "__MarketBook__ represent all of these as a numpy ndarray,\n",
    "in this case a ndarray with axes (3, 2, 3, 2), (selection, side, ladder_level, price/size).\n",
    "\n",
    "*  first axis (row) is the runner index (0/1/2),\n",
    "\n",
    "* second axis side (color) to select Back/Lay (0/1),\n",
    "\n",
    "* third axis ladder level (columns) (0, 1, 2)\n",
    "\n",
    "* fourth axis price and size (0/1)\n",
    "\n",
    "#### Example\n",
    "\n",
    "If i want the __best__ (ladder 0) __back__ __price__ for __Shakhter__\n",
    "```python\n",
    "market_book.best_display[0, 0, 0, 0]\n",
    "```\n",
    "If i want the best __lay__ price for __The draw__\n",
    "```python\n",
    "market_book.best_display[2, 1, 0, 0]\n",
    "```\n",
    "\n",
    "If i want second best back prices for all selections\n",
    "```python\n",
    "market_book.best_display[:, 0, 1, 0]\n",
    "```"
   ]
  },
  {
   "cell_type": "code",
   "execution_count": null,
   "outputs": [],
   "source": [
    "# Before running this I strongly recommend to right click on the cell and select \"Enable scrolling for outputs\", there could be alot of updates :)\n",
    "try:\n",
    "    # Read a single message from the stream.\n",
    "    for update in connection_pool.read():\n",
    "        # Decode update from bytes to dict\n",
    "        update = json.loads(update)\n",
    "\n",
    "        # Update each cache\n",
    "        market_updates = market_cache(update)\n",
    "        order_updates = order_cache(update)\n",
    "\n",
    "        # iterate through all market books that received an update\n",
    "        for market_book in market_updates:\n",
    "            print(f\"{market_book.market_id} \"\n",
    "                  # The delay in seconds from the time betfair sent the message\n",
    "                  # until one processed it.\n",
    "                  f\"{round(time.time() - market_cache.publish_time/1000, 4)} \"\n",
    "                  # Show all back price and size for runner 0\n",
    "                  f\"{market_book.best_display[0, 0, :, 0]}\")\n",
    "\n",
    "        # iterate through all orders that were updated\n",
    "        for order in order_updates:\n",
    "            print(order)\n",
    "finally:\n",
    "    # Must be here. Jupyter does not \"close\" sockets automatically,\n",
    "    # which will hold streams open to betfair and will\n",
    "    # take forever to close.\n",
    "    connection_pool.close()"
   ],
   "metadata": {
    "collapsed": false,
    "pycharm": {
     "name": "#%%\n"
    }
   }
  }
 ],
 "metadata": {
  "kernelspec": {
   "display_name": "Python 3",
   "language": "python",
   "name": "python3"
  },
  "language_info": {
   "codemirror_mode": {
    "name": "ipython",
    "version": 3
   },
   "file_extension": ".py",
   "mimetype": "text/x-python",
   "name": "python",
   "nbconvert_exporter": "python",
   "pygments_lexer": "ipython3",
   "version": "3.8.2"
  }
 },
 "nbformat": 4,
 "nbformat_minor": 4
}