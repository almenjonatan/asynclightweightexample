{
 "cells": [
  {
   "cell_type": "markdown",
   "metadata": {
    "pycharm": {
     "name": "#%% md\n"
    }
   },
   "source": [
    "## Tutorial\n",
    "### Credentials\n",
    "[How to generate certificates](https://docs.developer.betfair.com/display/1smk3cen4v3lu3yomq5qye0ni/Non-Interactive+%28bot%29+login#Non-Interactive(bot)login-CreatingaSelfSignedCertificate)"
   ]
  },
  {
   "cell_type": "code",
   "execution_count": null,
   "metadata": {},
   "outputs": [],
   "source": [
    "import os\n",
    "from betfairlightweight.apiclient import APIClient\n",
    "\n",
    "# If you do not have you credentials in your environment replace\n",
    "# the strings after or with your own credentials.\n",
    "\n",
    "USERNAME=os.environ.get(\"BETFAIR_USERNAME\") or \"BETFAIR_USERNAME\"\n",
    "PASSWORD=os.environ.get(\"BETFAIR_PASSWORD\")  or \"BETFAIR_PASSWORD\"\n",
    "APP_KEY=os.environ.get(\"BETFAIR_APP_KEY\") or \"BETFAIR_APP_KEY\"\n",
    "CERT_PATH=os.path.abspath(\"../certs\") or \"YOUR_ABSOLUTE_CERT_PATH\"\n",
    "\n",
    "LOCALE=None # Add locale here if you're are in any of\n",
    "            # these jurisdictions [australia, italy, spain, romania, sweden]\n",
    "\n",
    "trading: APIClient = APIClient(\n",
    "    username=USERNAME, \n",
    "    password=PASSWORD, \n",
    "    app_key=APP_KEY, \n",
    "    certs=CERT_PATH, \n",
    "    locale=LOCALE\n",
    ")\n",
    "\n",
    "trading.login()"
   ]
  },
  {
   "cell_type": "markdown",
   "metadata": {
    "pycharm": {
     "name": "#%% md\n"
    }
   },
   "source": [
    "###  Imports"
   ]
  },
  {
   "cell_type": "code",
   "execution_count": null,
   "metadata": {
    "collapsed": false,
    "jupyter": {
     "outputs_hidden": false
    },
    "pycharm": {
     "name": "#%%\n"
    }
   },
   "outputs": [],
   "source": [
    "import logging\n",
    "import time\n",
    "\n",
    "import numpy as np\n",
    "import orjson\n",
    "\n",
    "from betfairstreamer.models.betfair_api import BetfairMarketFilter, BetfairMarketDataFilter\n",
    "from betfairstreamer.models.market_cache import MarketCache\n",
    "from betfairstreamer.models.order_cache import OrderCache\n",
    "from betfairstreamer.stream.betfair_connection_pool import BetfairConnectionPool\n",
    "from betfairstreamer.utils import create_market_subscription, create_order_subscription"
   ]
  },
  {
   "cell_type": "markdown",
   "metadata": {
    "pycharm": {
     "name": "#%% md\n"
    }
   },
   "source": [
    "### Logging properties"
   ]
  },
  {
   "cell_type": "code",
   "execution_count": null,
   "metadata": {
    "collapsed": false,
    "jupyter": {
     "outputs_hidden": false
    },
    "pycharm": {
     "name": "#%%\n"
    }
   },
   "outputs": [],
   "source": [
    "np.set_printoptions(precision=3)\n",
    "logging.basicConfig(level=logging.INFO)"
   ]
  },
  {
   "cell_type": "markdown",
   "metadata": {
    "pycharm": {
     "name": "#%% md\n"
    }
   },
   "source": [
    "### Create subscriptions.\n",
    "\n",
    "This will specify what type of markets you want to subscribe to. Read more at\n",
    "[MarketSubscription](https://docs.developer.betfair.com/display/1smk3cen4v3lu3yomq5qye0ni/Exchange+Stream+API#ExchangeStreamAPI-MarketSubscriptionMessage),\n",
    "[OrderSubscription](https://docs.developer.betfair.com/display/1smk3cen4v3lu3yomq5qye0ni/Exchange+Stream+API#ExchangeStreamAPI-OrderSubscriptionMessage)."
   ]
  },
  {
   "cell_type": "code",
   "execution_count": null,
   "metadata": {
    "collapsed": false,
    "jupyter": {
     "outputs_hidden": false
    },
    "pycharm": {
     "name": "#%%\n"
    }
   },
   "outputs": [],
   "source": [
    "horse_subscription = create_market_subscription(\n",
    "        # Asian Handicap is not yet supported if using EX_ALL_OFFER.\n",
    "        market_filter=BetfairMarketFilter(eventTypeIds=[\"7\"], marketTypes=[\"WIN\"]),\n",
    "        market_data_filter=BetfairMarketDataFilter(\n",
    "            ladderLevels=3,  # Ladder levels are fixed to 3 at the moment.\n",
    "            fields=[\n",
    "                \"EX_MARKET_DEF\",\n",
    "                \"EX_BEST_OFFERS\",\n",
    "                \"EX_LTP\",\n",
    "                \"EX_BEST_OFFERS_DISP\",\n",
    "                \"EX_ALL_OFFERS\",\n",
    "            ],\n",
    "        ),\n",
    "        conflate_ms=5000\n",
    ")\n",
    "\n",
    "order_subscription_message = create_order_subscription()"
   ]
  },
  {
   "cell_type": "markdown",
   "metadata": {
    "pycharm": {
     "name": "#%% md\n"
    }
   },
   "source": [
    "### Cache\n",
    "\n",
    "These will aggregate the messages coming from the streams you have subscribed at. We need to do this because betfair will only send\n",
    "the parts that have recently updated (deltas). So we need a way to keep the whole history."
   ]
  },
  {
   "cell_type": "code",
   "execution_count": null,
   "metadata": {
    "collapsed": false,
    "jupyter": {
     "outputs_hidden": false
    },
    "pycharm": {
     "name": "#%%\n"
    }
   },
   "outputs": [],
   "source": [
    "market_cache = MarketCache()\n",
    "order_cache = OrderCache()"
   ]
  },
  {
   "cell_type": "markdown",
   "metadata": {
    "pycharm": {
     "name": "#%% md\n"
    }
   },
   "source": [
    "### Connection Pool\n",
    "For each of your subscription you have created __create_connection_pool__ will create a separate stream to betfair.\n",
    "connection_pool will receive messages from each stream as they come in."
   ]
  },
  {
   "cell_type": "code",
   "execution_count": null,
   "metadata": {
    "collapsed": false,
    "jupyter": {
     "outputs_hidden": false
    },
    "pycharm": {
     "name": "#%%\n"
    }
   },
   "outputs": [],
   "source": [
    "connection_pool = BetfairConnectionPool.create_connection_pool(\n",
    "    subscription_messages=[horse_subscription, order_subscription_message],\n",
    "    app_key=trading.app_key,\n",
    "    session_token=trading.session_token\n",
    ")"
   ]
  },
  {
   "cell_type": "markdown",
   "metadata": {
    "pycharm": {
     "name": "#%% md\n"
    }
   },
   "source": [
    "### Read loop\n",
    "\n",
    "1: __connection_pool.read()__ is a generator which will produce messages as long as betfair does not disconnect or your internet connection goes down.\n",
    "Since the messages we receive are bytes we need to decode them,\n",
    "\n",
    "2: __orjson.loads([bytes])__ produces python __dict__, which can be consumed by our caches.\n",
    "\n",
    "3: __market_update__, __order_updates__, if  there were any market or order updates in the update, these will be added to respective list.\n",
    "\n",
    "4: Iterate over both list to check if there are any updates, send them to your strategies and trade :)\n",
    "\n",
    "### Market Book\n",
    "\n",
    "![img](selections.png)\n",
    "\n",
    "In the image we have a market with __three__ selections. Shakhter, Dinamo and Draw. That is each __row__. We have __three__ ladder levels\n",
    "for Back/Lay each. That is the __columns__. We have __two__ different sides Back/Lay and For each ladder level (single column) we have a  price and size (__two__).\n",
    "\n",
    "If you do not know about numpy you will likely want to read up on that before using this library since everything builds on that.\n",
    "\n",
    "Now market book represent all of these as a numpy ndarray and specifically in this case a ndarray with axes (3, 2, 3, 2)\n",
    "\n",
    "The first axis is the sort priority (0/1/2), second axis which side to select BACK/LAY (0/1), third axis ladder level (0, 1, 2) and\n",
    "last axis price and size (0/1)\n",
    "\n",
    "#### Example\n",
    "\n",
    "If i want the best __back__ price for __Shakhter__\n",
    "```python\n",
    "market_book.best_display[0, 0, 0, 0]\n",
    "```\n",
    "If i want the best __lay__ price for __The draw__\n",
    "```python\n",
    "market_book.best_display[2, 1, 0, 0]\n",
    "```\n",
    "\n",
    "If i want second best back prices for all selections\n",
    "```python\n",
    "market_book.best_display[:, 0, 1, 0]\n",
    "```\n",
    "\n",
    "### Other notes.\n",
    "\n",
    "market_book.best_display have the same prices as betfair homepage, read more about why this might not be the case at\n",
    "[Cross matching](https://docs.developer.betfair.com/display/1smk3cen4v3lu3yomq5qye0ni/Additional+Information#AdditionalInformation-VirtualBets).\n",
    "\n",
    "Learn how to slice numpy arrays. You can do a lot of cool tricks and fast vectorized operations on the markets array."
   ]
  },
  {
   "cell_type": "code",
   "execution_count": null,
   "metadata": {
    "collapsed": false,
    "jupyter": {
     "outputs_hidden": false
    },
    "pycharm": {
     "is_executing": true,
     "name": "#%%\n"
    }
   },
   "outputs": [],
   "source": [
    "try:\n",
    "    for update in connection_pool.read():\n",
    "        update = orjson.loads(update)\n",
    "\n",
    "        market_updates = market_cache(update)\n",
    "        order_updates = order_cache(update)\n",
    "\n",
    "        for market_book in market_updates:\n",
    "            print(f\"{market_book.market_id} {round(time.time() - market_cache.publish_time/1000, 4)} {market_book.best_display[0, 0, :, 0]}\\n\", end='\\r')\n",
    "\n",
    "        for order in order_updates:\n",
    "            print(order)\n",
    "except Exception as _:\n",
    "    pass\n",
    "finally:\n",
    "    # Must be here. Jupyter does not \"close\" file descriptors automatically.\n",
    "    for k, v in connection_pool.connections.items():\n",
    "        v.connection.close()"
   ]
  },
  {
   "cell_type": "markdown",
   "metadata": {
    "pycharm": {
     "name": "#%% md\n"
    }
   },
   "source": [
    "## Read historical data"
   ]
  },
  {
   "cell_type": "code",
   "execution_count": null,
   "metadata": {
    "collapsed": false,
    "jupyter": {
     "outputs_hidden": false
    },
    "pycharm": {
     "name": "#%%\n"
    }
   },
   "outputs": [],
   "source": [
    "import bz2 # If you download data from betfair\n",
    "\n",
    "market_cache = MarketCache()\n",
    "\n",
    "market_updates = bz2.open(\"market_file.bz2\", \"r\").readlines()  # If files are compressed\n",
    "\n",
    "for market_update in market_updates:\n",
    "    market_books = market_cache(orjson.loads(market_update))\n",
    "\n",
    "    for market_book in market_books:\n",
    "        pass"
   ]
  }
 ],
 "metadata": {
  "kernelspec": {
   "display_name": "Python 3",
   "language": "python",
   "name": "python3"
  },
  "language_info": {
   "codemirror_mode": {
    "name": "ipython",
    "version": 3
   },
   "file_extension": ".py",
   "mimetype": "text/x-python",
   "name": "python",
   "nbconvert_exporter": "python",
   "pygments_lexer": "ipython3",
   "version": "3.8.2"
  }
 },
 "nbformat": 4,
 "nbformat_minor": 4
}