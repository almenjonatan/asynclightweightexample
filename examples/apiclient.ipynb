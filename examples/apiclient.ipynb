{
 "cells": [
  {
   "cell_type": "markdown",
   "source": [
    "### Create BetfairAPIClient"
   ],
   "metadata": {
    "collapsed": false,
    "pycharm": {
     "name": "#%% md\n"
    }
   }
  },
  {
   "cell_type": "code",
   "execution_count": null,
   "outputs": [],
   "source": [
    "from betfairstreamer.api_client import BetfairAPIClient, RequestTradeClient\n",
    "\n",
    "import time\n",
    "import json\n",
    "\n",
    "USERNAME=\"betfair username\"\n",
    "PASSWORD=\"betfair password\"\n",
    "APP_KEY=\"betfair app key\"\n",
    "CERT_CRT_PATH=\"path to .crt file, relative or absolute\"\n",
    "CERT_KEY_PATH=\"path to .key file, relative or absolute\"\n",
    "\n",
    "# Add locale here if you're are in any of\n",
    "# these jurisdictions [italy (IT), spain (ES), romania (RO), sweden (SE)]\n",
    "# i.e. LOCALE=\"SE\"\n",
    "\n",
    "LOCALE=\"\"\n",
    "\n",
    "api_client = BetfairAPIClient.from_requests_backend(\n",
    "    username=USERNAME,\n",
    "    password=PASSWORD,\n",
    "    app_key=APP_KEY,\n",
    "    cert_crt_path=CERT_CRT_PATH,\n",
    "    cert_key_path=CERT_KEY_PATH,\n",
    "    locale=LOCALE\n",
    ")"
   ],
   "metadata": {
    "collapsed": false,
    "pycharm": {
     "name": "#%%\n"
    }
   }
  },
  {
   "cell_type": "markdown",
   "source": [
    "### Account statements"
   ],
   "metadata": {
    "collapsed": false,
    "pycharm": {
     "name": "#%% md\n"
    }
   }
  },
  {
   "cell_type": "code",
   "execution_count": null,
   "outputs": [],
   "source": [
    "account_statements = api_client.get_account_statements()\n",
    "# If you have pandas you can load it directly into a data frame, comes in record format\n",
    "# account_statements = pd.DataFrame(account_statements)\n",
    "account_statements"
   ],
   "metadata": {
    "collapsed": false,
    "pycharm": {
     "name": "#%%\n"
    }
   }
  },
  {
   "cell_type": "markdown",
   "source": [
    "### Fetch current orders"
   ],
   "metadata": {
    "collapsed": false
   }
  },
  {
   "cell_type": "code",
   "execution_count": null,
   "outputs": [],
   "source": [
    "orders = api_client.get_current_orders()\n",
    "# same as above.\n",
    "# orders = pd.DataFrame(orders)\n",
    "orders"
   ],
   "metadata": {
    "collapsed": false,
    "pycharm": {
     "name": "#%%\n"
    }
   }
  },
  {
   "cell_type": "markdown",
   "source": [
    "### Fetch with generators\n",
    "Instead of fetching all account statements/orders you can create a generator which will load page by page."
   ],
   "metadata": {
    "collapsed": false,
    "pycharm": {
     "name": "#%% md\n"
    }
   }
  },
  {
   "cell_type": "code",
   "execution_count": null,
   "outputs": [],
   "source": [
    "account_statements_g = api_client.get_account_statement_generator(\n",
    "    start_index=0,\n",
    "    page_size=10,\n",
    "    account_statement_filter={}\n",
    ")"
   ],
   "metadata": {
    "collapsed": false,
    "pycharm": {
     "name": "#%%\n"
    }
   }
  },
  {
   "cell_type": "markdown",
   "source": [
    "Now you can call next on this generator to receive the next 10 statements. (ctrl + enter) to run again."
   ],
   "metadata": {
    "collapsed": false,
    "pycharm": {
     "name": "#%% md\n"
    }
   }
  },
  {
   "cell_type": "code",
   "execution_count": null,
   "outputs": [],
   "source": [
    "next_10 = next(account_statements_g)\n",
    "# pd.DataFrame(next_10)\n",
    "next_10"
   ],
   "metadata": {
    "collapsed": false,
    "pycharm": {
     "name": "#%%\n"
    }
   }
  },
  {
   "cell_type": "markdown",
   "source": [
    "Same with orders"
   ],
   "metadata": {
    "collapsed": false
   }
  },
  {
   "cell_type": "code",
   "execution_count": null,
   "outputs": [],
   "source": [
    "order_g = api_client.get_current_orders_generator(\n",
    "    start_index=0,\n",
    "    page_size=10,\n",
    "    order_filter={}\n",
    ")"
   ],
   "metadata": {
    "collapsed": false,
    "pycharm": {
     "name": "#%%\n"
    }
   }
  },
  {
   "cell_type": "markdown",
   "source": [
    "Now you can call next on this generator to receive the next 10 statements."
   ],
   "metadata": {
    "collapsed": false
   }
  },
  {
   "cell_type": "code",
   "execution_count": null,
   "outputs": [],
   "source": [
    "next_10 = next(order_g)\n",
    "# pd.DataFrame(next_10)\n",
    "next_10"
   ],
   "metadata": {
    "collapsed": false,
    "pycharm": {
     "name": "#%%\n"
    }
   }
  },
  {
   "cell_type": "markdown",
   "source": [],
   "metadata": {
    "collapsed": false
   }
  }
 ],
 "metadata": {
  "kernelspec": {
   "display_name": "Python 3",
   "language": "python",
   "name": "python3"
  },
  "language_info": {
   "codemirror_mode": {
    "name": "ipython",
    "version": 2
   },
   "file_extension": ".py",
   "mimetype": "text/x-python",
   "name": "python",
   "nbconvert_exporter": "python",
   "pygments_lexer": "ipython2",
   "version": "2.7.6"
  }
 },
 "nbformat": 4,
 "nbformat_minor": 0
}