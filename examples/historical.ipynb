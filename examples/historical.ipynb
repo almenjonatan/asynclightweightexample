{
 "cells": [
  {
   "cell_type": "markdown",
   "source": [
    "## Read historical data\n",
    "Load the stream updates you have and pass them to market cache which in turn\n",
    "will return MarketBook(s)."
   ],
   "metadata": {
    "collapsed": false
   }
  },
  {
   "cell_type": "code",
   "execution_count": null,
   "outputs": [],
   "source": [
    "import bz2\n",
    "import json\n",
    "from betfairstreamer.models.market_cache import MarketCache\n",
    "\n",
    "market_cache = MarketCache()\n",
    "\n",
    "def open_text_file(path: str):\n",
    "    return open(path, \"r\").readlines()\n",
    "\n",
    "def open_compressed(path: str):\n",
    "    return map(json.loads, bz2.open(path, \"r\").readlines())\n",
    "\n",
    "stream_updates = open_compressed(\"path_to_file\")\n",
    "\n",
    "for market_update in stream_updates:\n",
    "    market_books = market_cache(market_update)\n",
    "\n",
    "    for market_book in market_books:\n",
    "        # Do something with market_book here.\n",
    "        pass\n"
   ],
   "metadata": {
    "collapsed": false,
    "pycharm": {
     "name": "#%%\n"
    }
   }
  }
 ],
 "metadata": {
  "kernelspec": {
   "display_name": "Python 3",
   "language": "python",
   "name": "python3"
  },
  "language_info": {
   "codemirror_mode": {
    "name": "ipython",
    "version": 2
   },
   "file_extension": ".py",
   "mimetype": "text/x-python",
   "name": "python",
   "nbconvert_exporter": "python",
   "pygments_lexer": "ipython2",
   "version": "2.7.6"
  }
 },
 "nbformat": 4,
 "nbformat_minor": 0
}